{
 "cells": [
  {
   "cell_type": "markdown",
   "metadata": {},
   "source": [
    "# Simple MNIST CNN classification\n",
    "## By Guillermo Urcera Martín 04/10/18\n",
    "\n",
    "Let's explore the <a href=\"http://yann.lecun.com/exdb/mnist/\">mnist handwritten digit database</a> and write a CNN capable of classifying the numbers."
   ]
  },
  {
   "cell_type": "markdown",
   "metadata": {},
   "source": [
    "We start by importing tensorflow for training, numpy for math and matplotlib to plot data, as well as setting some hyperparameters, such as the learning rate, the L2 regularisation term and the minibatch size, which we'll not optimise here for the sake of simplicity."
   ]
  },
  {
   "cell_type": "code",
   "execution_count": 10,
   "metadata": {},
   "outputs": [],
   "source": [
    "import tensorflow as tf\n",
    "import numpy as np\n",
    "import matplotlib.pyplot as plt\n",
    "\n",
    "# Constants\n",
    "LEARNING_RATE=1e-3\n",
    "MAX_EPOCH=600\n",
    "MINIBATCH_SIZE=256\n",
    "L2_LAMBDA=1e-3\n",
    "EPOCHS_PER_LOG=10"
   ]
  },
  {
   "cell_type": "markdown",
   "metadata": {},
   "source": [
    "We load the dataset from tf.keras.datasets and extract the training and test sets."
   ]
  },
  {
   "cell_type": "code",
   "execution_count": 11,
   "metadata": {},
   "outputs": [],
   "source": [
    "# Load data\n",
    "mnist=tf.keras.datasets.mnist\n",
    "(images_train, labels_train_1d),(images_test, labels_test_1d)=mnist.load_data()\n",
    "image_size=len(images_train[0])\n",
    "train_elements=len(labels_train_1d)\n",
    "test_elements=len(labels_test_1d)"
   ]
  },
  {
   "cell_type": "markdown",
   "metadata": {},
   "source": [
    "First, let's take a look at the data, in case it's not as uniform as we expected."
   ]
  },
  {
   "cell_type": "code",
   "execution_count": 12,
   "metadata": {},
   "outputs": [
    {
     "data": {
      "text/plain": [
       "Text(0.5,1,u'Test data')"
      ]
     },
     "execution_count": 12,
     "metadata": {},
     "output_type": "execute_result"
    },
    {
     "data": {
      "image/png": "[encoded data removed]",
      "text/plain": [
       "<matplotlib.figure.Figure at 0x7fa326baa090>"
      ]
     },
     "metadata": {},
     "output_type": "display_data"
    }
   ],
   "source": [
    "# Take a look at the data\n",
    "fig, axes = plt.subplots(nrows=1, ncols=2)\n",
    "\n",
    "axes[0].hist(labels_train_1d,rwidth=0.8)\n",
    "axes[0].set_xlabel(\"Number\")\n",
    "axes[0].set_ylabel(\"Count\")\n",
    "axes[0].set_title(\"Train data\")\n",
    "\n",
    "axes[1].hist(labels_test_1d,rwidth=0.8)\n",
    "axes[1].set_xlabel(\"Number\")\n",
    "axes[1].set_ylabel(\"Count\")\n",
    "axes[1].set_title(\"Test data\")"
   ]
  },
  {
   "cell_type": "markdown",
   "metadata": {},
   "source": [
    "Turns out it's fairly well balanced, let's show an image on screen and take a look at its shape."
   ]
  },
  {
   "cell_type": "code",
   "execution_count": 13,
   "metadata": {},
   "outputs": [
    {
     "name": "stdout",
     "output_type": "stream",
     "text": [
      "Shape: (28, 28)\n"
     ]
    },
    {
     "data": {
      "image/png": "[encoded data removed]",
      "text/plain": [
       "<matplotlib.figure.Figure at 0x7fa326b28910>"
      ]
     },
     "metadata": {},
     "output_type": "display_data"
    }
   ],
   "source": [
    "# Let's render a sample image\n",
    "fig=plt.figure()\n",
    "index=np.random.randint(train_elements)\n",
    "image=images_train[index]\n",
    "plt.imshow(image)\n",
    "print \"Shape:\",image.shape"
   ]
  },
  {
   "cell_type": "markdown",
   "metadata": {},
   "source": [
    "By taking a look at the numbers and formatting, we can see it's a 28*28 pixel grayscale image. Pixel values range from 0 to 255. Let's divide all pixels by 255 to normalize the data a bit and make it easier for a NN to train on it."
   ]
  },
  {
   "cell_type": "code",
   "execution_count": 14,
   "metadata": {},
   "outputs": [],
   "source": [
    "# Normalize data\n",
    "images_train=images_train/255.0\n",
    "images_test=images_test/255.0"
   ]
  },
  {
   "cell_type": "markdown",
   "metadata": {},
   "source": [
    "Since we're going to use a softmax output, we'll have to convert our labels from one dimensional numbers to a 10 dimensional bool vector to make the labels match the outputs."
   ]
  },
  {
   "cell_type": "code",
   "execution_count": 15,
   "metadata": {},
   "outputs": [],
   "source": [
    "labels_train=np.zeros((train_elements,10))\n",
    "labels_train[np.arange(train_elements),labels_train_1d]=1\n",
    "\n",
    "labels_test=np.zeros((test_elements,10))\n",
    "labels_test[np.arange(test_elements),labels_test_1d]=1"
   ]
  },
  {
   "cell_type": "markdown",
   "metadata": {},
   "source": [
    "Let's start tensorflow"
   ]
  },
  {
   "cell_type": "code",
   "execution_count": 16,
   "metadata": {},
   "outputs": [],
   "source": [
    "# Tensorflow init\n",
    "tf.reset_default_graph()\n",
    "sess=tf.Session()"
   ]
  },
  {
   "cell_type": "markdown",
   "metadata": {},
   "source": [
    "We create a simple CNN consisting of 2 convolutional layers, each followed by a max pool layer and two FC layers.\n",
    "Here's a tensorboard graph:\n",
    "\n",
    "<img src=\"https://i.imgur.com/UZLZvac.png\">\n",
    "\n",
    "Notice we add L2 regularisation to all weights except biases."
   ]
  },
  {
   "cell_type": "code",
   "execution_count": 17,
   "metadata": {},
   "outputs": [],
   "source": [
    "# Create CNN\n",
    "input_tensor=tf.placeholder(tf.float32, shape=(None,image_size,image_size,1),name=\"input_tensor\")\n",
    "label_tensor=tf.placeholder(tf.float32,shape=(None,10),name=\"label_tensor\")\n",
    "\n",
    "conv1=tf.layers.conv2d(inputs=input_tensor,filters=64,kernel_size=3,padding='valid',activation=tf.nn.relu,name=\"conv_layer_1\")\n",
    "pool1=tf.layers.max_pooling2d(conv1,2,2,name=\"max_pool_layer_1\")\n",
    "conv2=tf.layers.conv2d(inputs=pool1,filters=128,kernel_size=3,padding='valid',activation=tf.nn.relu,name=\"conv_layer_2\")\n",
    "pool2=tf.layers.max_pooling2d(conv2,2,2,name=\"max_pool_layer_2\")\n",
    "flat=tf.layers.flatten(pool2)\n",
    "dense1=tf.layers.dense(flat,256,activation=tf.nn.relu,name=\"dense_layer_1\")\n",
    "logits=tf.layers.dense(dense1,10,activation=None,name=\"logits\")\n",
    "output=tf.nn.softmax(logits)\n",
    "\n",
    "weights=tf.trainable_variables() \n",
    "lossL2=tf.add_n([tf.nn.l2_loss(v) for v in weights if 'bias' not in v.name ])*L2_LAMBDA\n",
    "cost=tf.losses.softmax_cross_entropy(onehot_labels=label_tensor,logits=logits)+lossL2\n",
    "\n",
    "train=tf.train.AdamOptimizer(LEARNING_RATE).minimize(cost)"
   ]
  },
  {
   "cell_type": "code",
   "execution_count": 18,
   "metadata": {},
   "outputs": [],
   "source": [
    "# Finalise tensorflow init\n",
    "init_op=tf.global_variables_initializer()\n",
    "tf.get_default_graph().finalize()\n",
    "sess.run(init_op)"
   ]
  },
  {
   "cell_type": "markdown",
   "metadata": {},
   "source": [
    "Set up arrays for logging learning"
   ]
  },
  {
   "cell_type": "code",
   "execution_count": 19,
   "metadata": {},
   "outputs": [],
   "source": [
    "training_loss=np.zeros(MAX_EPOCH/EPOCHS_PER_LOG)\n",
    "test_loss=np.zeros(MAX_EPOCH/EPOCHS_PER_LOG)\n",
    "test_accuracy=np.zeros(MAX_EPOCH/EPOCHS_PER_LOG)"
   ]
  },
  {
   "cell_type": "markdown",
   "metadata": {},
   "source": [
    "We reshape the images so that the conv2d layers can see they have 1 channel."
   ]
  },
  {
   "cell_type": "code",
   "execution_count": 20,
   "metadata": {},
   "outputs": [],
   "source": [
    "images_train=np.reshape(images_train,(train_elements,image_size,image_size,1))\n",
    "images_test=np.reshape(images_test,(test_elements,image_size,image_size,1))"
   ]
  },
  {
   "cell_type": "markdown",
   "metadata": {},
   "source": [
    "To generate the minibatches used in training, we first shuffle the contents of the training images and labels (both in the same order), and then divide the data in chunks, which are our minibatches."
   ]
  },
  {
   "cell_type": "code",
   "execution_count": 21,
   "metadata": {},
   "outputs": [],
   "source": [
    "# Generate minibatches\n",
    "def generate_minibatches(images,labels):\n",
    "    index=np.random.permutation(len(labels_train))\n",
    "    x=images_train[index]\n",
    "    y=labels_train[index]\n",
    "    minibatch_list=[]\n",
    "    for i in range(len(y)/MINIBATCH_SIZE):\n",
    "        minibatch_list.append([x[i*MINIBATCH_SIZE:i*MINIBATCH_SIZE+MINIBATCH_SIZE,:,:],y[i*MINIBATCH_SIZE:i*MINIBATCH_SIZE+MINIBATCH_SIZE]])\n",
    "    minibatch_list.append([x[i*MINIBATCH_SIZE:len(x),:,:],y[i*MINIBATCH_SIZE:len(y)]])\n",
    "    return minibatch_list"
   ]
  },
  {
   "cell_type": "markdown",
   "metadata": {},
   "source": [
    "At last, time to train our model."
   ]
  },
  {
   "cell_type": "code",
   "execution_count": 22,
   "metadata": {},
   "outputs": [
    {
     "name": "stdout",
     "output_type": "stream",
     "text": [
      "Epoch 0\n",
      "Epoch 100\n",
      "Epoch 200\n",
      "Epoch 300\n",
      "Epoch 400\n",
      "Epoch 500\n",
      "Done!\n"
     ]
    }
   ],
   "source": [
    "acc_test_loss=0\n",
    "acc_loss=0\n",
    "log_epoch=0\n",
    "for epoch in range(MAX_EPOCH):\n",
    "    minibatch_list=generate_minibatches(images_train,labels_train)\n",
    "    for minibatch in minibatch_list:\n",
    "        minibatch_X,minibatch_Y=minibatch\n",
    "        loss,_=sess.run([cost,train],feed_dict={input_tensor:minibatch_X,label_tensor:minibatch_Y})\n",
    "        acc_loss+=loss\n",
    "    if epoch%EPOCHS_PER_LOG==0:\n",
    "        # Record training loss\n",
    "        training_loss[log_epoch]=float(acc_loss)/(train_elements*EPOCHS_PER_LOG)\n",
    "        acc_loss=0\n",
    "        # Record test loss\n",
    "        test_loss[log_epoch]=float(sess.run(cost,feed_dict={input_tensor:images_test,label_tensor:labels_test}))/test_elements\n",
    "        # Record test accuracy\n",
    "        predicted_value=np.argmax(sess.run(output,feed_dict={input_tensor:images_test}),-1)\n",
    "        test_accuracy[log_epoch]=1-float(np.count_nonzero(predicted_value-labels_test_1d))/test_elements\n",
    "        log_epoch+=1\n",
    "    if epoch%100==0:\n",
    "        print \"Epoch\",epoch\n",
    "print \"Done!\""
   ]
  },
  {
   "cell_type": "markdown",
   "metadata": {},
   "source": [
    "Great, now let's plot the learning curves."
   ]
  },
  {
   "cell_type": "code",
   "execution_count": 23,
   "metadata": {},
   "outputs": [
    {
     "data": {
      "text/plain": [
       "Text(0.5,0,u'Epoch')"
      ]
     },
     "execution_count": 23,
     "metadata": {},
     "output_type": "execute_result"
    },
    {
     "data": {
      "image/png": "[encoded data removed]",
      "text/plain": [
       "<matplotlib.figure.Figure at 0x7fa326b83090>"
      ]
     },
     "metadata": {},
     "output_type": "display_data"
    }
   ],
   "source": [
    "x=np.arange(log_epoch)\n",
    "\n",
    "fig=plt.figure()\n",
    "ax1=fig.add_subplot(111)\n",
    "ax1.plot(x,training_loss,label='Training loss',color='blue',linestyle='--')\n",
    "ax1.plot(x,test_loss,label='Test loss',color='orange',linestyle='--')\n",
    "ax1.set_ylabel(\"Loss\")\n",
    "\n",
    "ax2=ax1.twinx()\n",
    "ax2.plot(x,test_accuracy,label='Test accuracy',color='green')\n",
    "ax2.set_ylabel(\"Accuracy\")\n",
    "fig.legend()\n",
    "ax1.set_xlabel('Epoch')"
   ]
  },
  {
   "cell_type": "markdown",
   "metadata": {},
   "source": [
    "Seems like the net learned to classify the images. We'll ask it to classify an example from the test set for us:"
   ]
  },
  {
   "cell_type": "code",
   "execution_count": 24,
   "metadata": {},
   "outputs": [
    {
     "name": "stdout",
     "output_type": "stream",
     "text": [
      "[8]\n"
     ]
    },
    {
     "data": {
      "image/png": "[encoded data removed]",
      "text/plain": [
       "<matplotlib.figure.Figure at 0x7fa326b28dd0>"
      ]
     },
     "metadata": {},
     "output_type": "display_data"
    }
   ],
   "source": [
    "index=np.random.randint(test_elements)\n",
    "\n",
    "\n",
    "image=images_train[index]\n",
    "\n",
    "# Reshape for printing\n",
    "image2=np.reshape(image,(image_size,image_size))\n",
    "plt.imshow(image2)\n",
    "\n",
    "answer=np.argmax(sess.run(output,feed_dict={input_tensor:[image]}),-1)\n",
    "print answer"
   ]
  },
  {
   "cell_type": "markdown",
   "metadata": {},
   "source": [
    "All done!"
   ]
  },
  {
   "cell_type": "code",
   "execution_count": null,
   "metadata": {},
   "outputs": [],
   "source": []
  }
 ],
 "metadata": {
  "kernelspec": {
   "display_name": "Python 2 (Spyder)",
   "language": "python2",
   "name": "python2"
  },
  "language_info": {
   "codemirror_mode": {
    "name": "ipython",
    "version": 2
   },
   "file_extension": ".py",
   "mimetype": "text/x-python",
   "name": "python",
   "nbconvert_exporter": "python",
   "pygments_lexer": "ipython2",
   "version": "2.7.12"
  }
 },
 "nbformat": 4,
 "nbformat_minor": 2
}
